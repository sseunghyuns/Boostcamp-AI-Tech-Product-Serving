{
 "cells": [
  {
   "cell_type": "markdown",
   "id": "strange-sensitivity",
   "metadata": {},
   "source": [
    "## 0. Libarary Import"
   ]
  },
  {
   "cell_type": "code",
   "execution_count": 1,
   "id": "novel-patent",
   "metadata": {},
   "outputs": [],
   "source": [
    "import io\n",
    "import os\n",
    "import yaml\n",
    "\n",
    "import pandas as pd\n",
    "import numpy as np\n",
    "from PIL import Image\n",
    "import torch\n",
    "import torch.nn as nn\n",
    "import torch.nn.functional as F\n",
    "\n",
    "from efficientnet_pytorch import EfficientNet\n",
    "\n",
    "\n",
    "import albumentations\n",
    "import albumentations.pytorch\n",
    "\n",
    "\n",
    "import ipywidgets as widgets\n",
    "from IPython.display import Image as display_image\n",
    "\n",
    "from typing import Tuple\n"
   ]
  },
  {
   "cell_type": "markdown",
   "id": "labeled-recall",
   "metadata": {},
   "source": [
    "## 1. 모델 정의 & 설정\n",
    "### 사전에 학습된 모델을 로딩"
   ]
  },
  {
   "cell_type": "code",
   "execution_count": 2,
   "id": "passive-sitting",
   "metadata": {},
   "outputs": [],
   "source": [
    "with open(\"config.yaml\") as f:\n",
    "    config = yaml.load(f, Loader=yaml.FullLoader)"
   ]
  },
  {
   "cell_type": "code",
   "execution_count": 3,
   "id": "frequent-grade",
   "metadata": {},
   "outputs": [],
   "source": [
    "class MyEfficientNet(nn.Module) :\n",
    "    '''\n",
    "    EfiicientNet-b4의 출력층만 변경합니다.\n",
    "    한번에 18개의 Class를 예측하는 형태의 Model입니다.\n",
    "    '''\n",
    "    def __init__(self, num_classes: int = 18) :\n",
    "        super(MyEfficientNet, self).__init__()\n",
    "        self.EFF = EfficientNet.from_pretrained('efficientnet-b4', in_channels=3, num_classes=num_classes)\n",
    "    \n",
    "    def forward(self, x) -> torch.Tensor:\n",
    "        x = self.EFF(x)\n",
    "        x = F.softmax(x, dim=1)\n",
    "        return x"
   ]
  },
  {
   "cell_type": "code",
   "execution_count": 4,
   "id": "usual-lotus",
   "metadata": {},
   "outputs": [],
   "source": [
    "def transform_image(image_bytes) -> torch.Tensor:\n",
    "    transform = albumentations.Compose([\n",
    "            albumentations.Resize(height=512, width=384),\n",
    "            albumentations.Normalize(mean=(0.5, 0.5, 0.5), \n",
    "                                     std=(0.2, 0.2, 0.2)),\n",
    "            albumentations.pytorch.transforms.ToTensorV2()\n",
    "        ])\n",
    "    image = Image.open(io.BytesIO(image_bytes))\n",
    "    image = image.convert('RGB')\n",
    "    image_array = np.array(image)\n",
    "    return transform(image=image_array)['image'].unsqueeze(0)"
   ]
  },
  {
   "cell_type": "code",
   "execution_count": 5,
   "id": "demanding-intake",
   "metadata": {},
   "outputs": [
    {
     "name": "stderr",
     "output_type": "stream",
     "text": [
      "Downloading: \"https://github.com/lukemelas/EfficientNet-PyTorch/releases/download/1.0/efficientnet-b4-6ed6700e.pth\" to /opt/ml/.cache/torch/hub/checkpoints/efficientnet-b4-6ed6700e.pth\n"
     ]
    },
    {
     "data": {
      "application/vnd.jupyter.widget-view+json": {
       "model_id": "cb0b7509adbf4b16b395951c6ed3eabf",
       "version_major": 2,
       "version_minor": 0
      },
      "text/plain": [
       "HBox(children=(HTML(value=''), FloatProgress(value=0.0, max=77999237.0), HTML(value='')))"
      ]
     },
     "metadata": {},
     "output_type": "display_data"
    },
    {
     "name": "stdout",
     "output_type": "stream",
     "text": [
      "\n",
      "Loaded pretrained weights for efficientnet-b4\n"
     ]
    }
   ],
   "source": [
    "device = torch.device(\"cuda\" if torch.cuda.is_available() else \"cpu\")\n",
    "\n",
    "model = MyEfficientNet(num_classes=18).to(device)\n",
    "model.load_state_dict(torch.load(config['model_path'], map_location=device))\n",
    "model.eval();"
   ]
  },
  {
   "cell_type": "code",
   "execution_count": 6,
   "id": "technical-calculator",
   "metadata": {},
   "outputs": [],
   "source": [
    "def get_prediction(image_bytes: bytes) -> Tuple[torch.Tensor, torch.Tensor]:\n",
    "    device = torch.device(\"cuda\" if torch.cuda.is_available() else \"cpu\")\n",
    "    tensor = transform_image(image_bytes=image_bytes).to(device)\n",
    "    outputs = model.forward(tensor)\n",
    "    _, y_hat = outputs.max(1)\n",
    "    return tensor, y_hat"
   ]
  },
  {
   "cell_type": "markdown",
   "id": "moderate-malaysia",
   "metadata": {
    "tags": []
   },
   "source": [
    "## 2. Inference \n",
    "- TODO : 파일 업로더 생성\n",
    "- TODO : 버튼 클릭시 이미지 보이기\n",
    "- TODO : 인퍼런스 버튼 클릭시 인퍼런스 실행"
   ]
  },
  {
   "cell_type": "code",
   "execution_count": 12,
   "id": "37994569-a702-41a7-9e3e-ecbfc40d9d8c",
   "metadata": {},
   "outputs": [],
   "source": [
    "uploader = widgets.FileUpload(\n",
    "        accept='.png, .jpg, .jpeg' ,\n",
    "        multiple=False\n",
    "        )"
   ]
  },
  {
   "cell_type": "code",
   "execution_count": 13,
   "id": "77a67089-0910-4f41-bee0-9cbc09007c58",
   "metadata": {},
   "outputs": [
    {
     "data": {
      "application/vnd.jupyter.widget-view+json": {
       "model_id": "5c266da42a3f44efa88d243ac3462ffd",
       "version_major": 2,
       "version_minor": 0
      },
      "text/plain": [
       "FileUpload(value={}, accept='.png, .jpg, .jpeg', description='Upload')"
      ]
     },
     "metadata": {},
     "output_type": "display_data"
    }
   ],
   "source": [
    "display(uploader)"
   ]
  },
  {
   "cell_type": "code",
   "execution_count": 26,
   "id": "ee07c881-a9e8-4cb8-8427-ed01ad0366e0",
   "metadata": {},
   "outputs": [],
   "source": [
    "def on_display_click_callback(clicked_button: widgets.Button) -> None:\n",
    "    global content\n",
    "    upload_filename = next(iter(uploader.value))\n",
    "    content = uploader.value[upload_filename]['content']\n",
    "    display_image_space.value = content"
   ]
  },
  {
   "cell_type": "code",
   "execution_count": 39,
   "id": "59541743-46d2-4e53-a41c-a30df0f11042",
   "metadata": {
    "collapsed": true,
    "jupyter": {
     "outputs_hidden": true
    },
    "tags": []
   },
   "outputs": [
    {
     "data": {
      "application/vnd.jupyter.widget-view+json": {
       "model_id": "56cccce0d9ef40ca8ca84f6595d54db1",
       "version_major": 2,
       "version_minor": 0
      },
      "text/plain": [
       "Button(description='Display Image', style=ButtonStyle())"
      ]
     },
     "metadata": {},
     "output_type": "display_data"
    },
    {
     "data": {
      "application/vnd.jupyter.widget-view+json": {
       "model_id": "9949eeffa9a5476e9a373fe17173ffa8",
       "version_major": 2,
       "version_minor": 0
      },
      "text/plain": [
       "Image(value=b'')"
      ]
     },
     "metadata": {},
     "output_type": "display_data"
    }
   ],
   "source": [
    "display_button = widgets.Button(description=\"Display Image\")\n",
    "display_image_space = widgets.Image()\n",
    "\n",
    "display_button.on_click(on_display_click_callback)\n",
    "display(display_button, display_image_space)"
   ]
  },
  {
   "cell_type": "code",
   "execution_count": 62,
   "id": "be13dec8-f50e-46e8-baae-f0d0203d2c57",
   "metadata": {},
   "outputs": [],
   "source": []
  },
  {
   "cell_type": "code",
   "execution_count": 69,
   "id": "b9961012-b329-4a7a-8651-dc109bddf437",
   "metadata": {},
   "outputs": [],
   "source": [
    "def on_inference_click_callback(clicked_button: widgets.Button) -> None:\n",
    "    with inference_output:\n",
    "        inference_output.clear_output()\n",
    "        _, output = get_prediction(content)\n",
    "        print(config['classes'][output.item()])"
   ]
  },
  {
   "cell_type": "code",
   "execution_count": 70,
   "id": "84356faf-fc2a-4338-bf5f-d2ef0d04538a",
   "metadata": {},
   "outputs": [
    {
     "data": {
      "application/vnd.jupyter.widget-view+json": {
       "model_id": "91178b87fc1843fc9f525708d0a95648",
       "version_major": 2,
       "version_minor": 0
      },
      "text/plain": [
       "Button(description='Inference', style=ButtonStyle())"
      ]
     },
     "metadata": {},
     "output_type": "display_data"
    },
    {
     "data": {
      "application/vnd.jupyter.widget-view+json": {
       "model_id": "7b7e5468d6274c6bab3f15eeb57de8b1",
       "version_major": 2,
       "version_minor": 0
      },
      "text/plain": [
       "Output(layout=Layout(border='1px solid black'))"
      ]
     },
     "metadata": {},
     "output_type": "display_data"
    }
   ],
   "source": [
    "inference_button = widgets.Button(description='Inference')\n",
    "inference_output = widgets.Output(layout={'border': '1px solid black'})\n",
    "\n",
    "inference_button.on_click(on_inference_click_callback)\n",
    "display(inference_button, inference_output)"
   ]
  },
  {
   "cell_type": "code",
   "execution_count": null,
   "id": "43531f8a-83c5-4cf4-be6f-cc0740a22105",
   "metadata": {},
   "outputs": [],
   "source": []
  }
 ],
 "metadata": {
  "interpreter": {
   "hash": "eda028c0af24c538d588c0b6932d10f4eb16a72f48d35998721da8db38e4b827"
  },
  "kernelspec": {
   "display_name": "Python 3 (ipykernel)",
   "language": "python",
   "name": "python3"
  },
  "language_info": {
   "codemirror_mode": {
    "name": "ipython",
    "version": 3
   },
   "file_extension": ".py",
   "mimetype": "text/x-python",
   "name": "python",
   "nbconvert_exporter": "python",
   "pygments_lexer": "ipython3",
   "version": "3.8.5"
  },
  "varInspector": {
   "cols": {
    "lenName": 16,
    "lenType": 16,
    "lenVar": 40
   },
   "kernels_config": {
    "python": {
     "delete_cmd_postfix": "",
     "delete_cmd_prefix": "del ",
     "library": "var_list.py",
     "varRefreshCmd": "print(var_dic_list())"
    },
    "r": {
     "delete_cmd_postfix": ") ",
     "delete_cmd_prefix": "rm(",
     "library": "var_list.r",
     "varRefreshCmd": "cat(var_dic_list()) "
    }
   },
   "types_to_exclude": [
    "module",
    "function",
    "builtin_function_or_method",
    "instance",
    "_Feature"
   ],
   "window_display": false
  }
 },
 "nbformat": 4,
 "nbformat_minor": 5
}
