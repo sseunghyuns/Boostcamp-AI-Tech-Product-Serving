{
 "cells": [
  {
   "cell_type": "code",
   "execution_count": 1,
   "id": "37c2af52-c93b-44bd-ac95-7033e2d2f265",
   "metadata": {},
   "outputs": [],
   "source": [
    "import yaml"
   ]
  },
  {
   "cell_type": "code",
   "execution_count": 6,
   "id": "89c41934-8aa0-4abc-a0b6-78abbb485da7",
   "metadata": {},
   "outputs": [],
   "source": [
    "with open(\"config.yaml\") as f:\n",
    "    config = yaml.load(f, Loader=yaml.FullLoader)"
   ]
  },
  {
   "cell_type": "code",
   "execution_count": 9,
   "id": "718564a0-741e-481a-8018-5e3bbb6f395e",
   "metadata": {},
   "outputs": [
    {
     "data": {
      "text/plain": [
       "{'classes': {0: ['Wear', 'Male', 'under 30'],\n",
       "  1: ['Wear', 'Male', 'between 30 and 60'],\n",
       "  2: ['Wear', 'Male', 'over 60'],\n",
       "  3: ['Wear', 'Female', 'under 30'],\n",
       "  4: ['Wear', 'Female', 'between 30 and 60'],\n",
       "  5: ['Wear', 'Female', 'over 60'],\n",
       "  6: ['Incorrect', 'Male', 'under 30'],\n",
       "  7: ['Incorrect', 'Male', 'between 30 and 60'],\n",
       "  8: ['Incorrect', 'Male', 'over 60'],\n",
       "  9: ['Incorrect', 'Female', 'under 30'],\n",
       "  10: ['Incorrect', 'Female', 'between 30 and 60'],\n",
       "  11: ['Incorrect', 'Female', 'over 60'],\n",
       "  12: ['Not Wear', 'Male', 'under 30'],\n",
       "  13: ['Not Wear', 'Male', 'between 30 and 60'],\n",
       "  14: ['Not Wear', 'Male', 'over 60'],\n",
       "  15: ['Not Wear', 'Female', 'under 30'],\n",
       "  16: ['Not Wear', 'Female', 'between 30 and 60'],\n",
       "  17: ['Not Wear', 'Female', 'over 60']},\n",
       " 'model_path': '../../assets/mask_task/model.pth'}"
      ]
     },
     "execution_count": 9,
     "metadata": {},
     "output_type": "execute_result"
    }
   ],
   "source": [
    "config"
   ]
  },
  {
   "cell_type": "code",
   "execution_count": null,
   "id": "910e17e8-7627-4815-819f-cdc894770712",
   "metadata": {},
   "outputs": [],
   "source": []
  }
 ],
 "metadata": {
  "kernelspec": {
   "display_name": "smp",
   "language": "python",
   "name": "smp"
  },
  "language_info": {
   "codemirror_mode": {
    "name": "ipython",
    "version": 3
   },
   "file_extension": ".py",
   "mimetype": "text/x-python",
   "name": "python",
   "nbconvert_exporter": "python",
   "pygments_lexer": "ipython3",
   "version": "3.8.13"
  }
 },
 "nbformat": 4,
 "nbformat_minor": 5
}
